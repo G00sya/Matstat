{
 "cells": [
  {
   "cell_type": "code",
   "execution_count": 25,
   "id": "9863b586",
   "metadata": {},
   "outputs": [],
   "source": [
    "import numpy as np\n",
    "import scipy.integrate as integrate\n",
    "from scipy.optimize import fsolve\n",
    "from scipy.stats import chi2\n",
    "import matplotlib.pyplot as plt"
   ]
  },
  {
   "cell_type": "code",
   "execution_count": 26,
   "id": "5c6d1db8",
   "metadata": {},
   "outputs": [
    {
     "name": "stdout",
     "output_type": "stream",
     "text": [
      "Нижний предел интегрирования: 36.415028501806674\n"
     ]
    }
   ],
   "source": [
    "# Нахождение С численно\n",
    "\n",
    "# Подынтегральная функция\n",
    "def integrand(x):\n",
    "    return chi2.pdf(x, 24) \n",
    "\n",
    "# Функция для оптимизации\n",
    "def find_lower_limit(lower_limit, upper_limit, target_result):\n",
    "    integral_result, _ = quad(integrand, lower_limit, upper_limit)\n",
    "    return integral_result - target_result\n",
    "\n",
    "# Заданные значения\n",
    "upper_limit = np.inf  # Пример верхнего предела\n",
    "target_result = 0.05  # Пример результата интегрирования\n",
    "\n",
    "# Начальное приближение нижнего предела\n",
    "initial_guess = 48\n",
    "\n",
    "# Решение для нижнего предела\n",
    "lower_limit_solution = fsolve(find_lower_limit, initial_guess, args=(upper_limit, target_result))\n",
    "\n",
    "print(f\"Нижний предел интегрирования: {lower_limit_solution[0]}\")"
   ]
  },
  {
   "cell_type": "code",
   "execution_count": 27,
   "id": "db84c9ef",
   "metadata": {},
   "outputs": [
    {
     "name": "stdout",
     "output_type": "stream",
     "text": [
      "Нижний предел интегрирования: 36.41502850180731\n"
     ]
    }
   ],
   "source": [
    "# Нахождение С с помощью квартиля\n",
    "ans = chi2.ppf(0.95, 24)\n",
    "print(f\"Нижний предел интегрирования: {ans}\")"
   ]
  },
  {
   "cell_type": "code",
   "execution_count": 28,
   "id": "474481be",
   "metadata": {},
   "outputs": [],
   "source": [
    "def Chi2(x):\n",
    "    return chi2.pdf(x, 24)"
   ]
  },
  {
   "cell_type": "code",
   "execution_count": 47,
   "id": "2f3644df",
   "metadata": {},
   "outputs": [
    {
     "data": {
      "text/plain": [
       "Text(0, 0.5, 'W')"
      ]
     },
     "execution_count": 47,
     "metadata": {},
     "output_type": "execute_result"
    },
    {
     "data": {
      "image/png": "[encoded data removed]",
      "text/plain": [
       "<Figure size 432x288 with 1 Axes>"
      ]
     },
     "metadata": {
      "needs_background": "light"
     },
     "output_type": "display_data"
    }
   ],
   "source": [
    "D_values = np.linspace(0.1, 0.6, 200)\n",
    "W_values = np.array([integrate.quad(Chi2, 3.641 / D_values[i], np.inf)[0] for i in range(200) ])\n",
    "\n",
    "plt.plot(D_values, W_values)\n",
    "plt.title(\"W(D)\")\n",
    "plt.xlabel(\"D\")\n",
    "plt.ylabel(\"W\")"
   ]
  },
  {
   "cell_type": "code",
   "execution_count": null,
   "id": "c1d9684b",
   "metadata": {},
   "outputs": [],
   "source": []
  }
 ],
 "metadata": {
  "kernelspec": {
   "display_name": "Python 3 (ipykernel)",
   "language": "python",
   "name": "python3"
  },
  "language_info": {
   "codemirror_mode": {
    "name": "ipython",
    "version": 3
   },
   "file_extension": ".py",
   "mimetype": "text/x-python",
   "name": "python",
   "nbconvert_exporter": "python",
   "pygments_lexer": "ipython3",
   "version": "3.9.12"
  }
 },
 "nbformat": 4,
 "nbformat_minor": 5
}
