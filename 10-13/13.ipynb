{
 "cells": [
  {
   "cell_type": "code",
   "execution_count": 18,
   "id": "c6111349",
   "metadata": {},
   "outputs": [
    {
     "name": "stderr",
     "output_type": "stream",
     "text": [
      "C:\\Users\\User\\anaconda3\\lib\\site-packages\\scipy\\__init__.py:146: UserWarning: A NumPy version >=1.16.5 and <1.23.0 is required for this version of SciPy (detected version 1.24.3\n",
      "  warnings.warn(f\"A NumPy version >={np_minversion} and <{np_maxversion}\"\n"
     ]
    }
   ],
   "source": [
    "import numpy as np\n",
    "from math import sqrt\n",
    "from scipy.stats import t\n",
    "import scipy.integrate as integrate"
   ]
  },
  {
   "cell_type": "code",
   "execution_count": 13,
   "id": "deda90a3",
   "metadata": {},
   "outputs": [],
   "source": [
    "def s2(x, x_):\n",
    "    total = 0\n",
    "    for i in x:\n",
    "        total += (i - x_)**2\n",
    "    total /= (len(x) - 1)\n",
    "    return total"
   ]
  },
  {
   "cell_type": "code",
   "execution_count": 19,
   "id": "02df9231",
   "metadata": {},
   "outputs": [],
   "source": [
    "def find_delta(x, y):\n",
    "    # Вычисление требуемых параметров\n",
    "    x_ = np.mean(x)\n",
    "    y_ = np.mean(y)\n",
    "    s2_x = s2(x, x_)\n",
    "    s2_y = s2(y, y_)\n",
    "    n = len(x)\n",
    "    m = len(y)\n",
    "    \n",
    "    # Вычисление delta\n",
    "    delta = (x_ - y_) / sqrt((s2_x * (n - 1) + s2_y * (m - 1)) / (n + m - 2)) * sqrt(n * m / (n + m))\n",
    "    return delta"
   ]
  },
  {
   "cell_type": "code",
   "execution_count": 20,
   "id": "e978b7d2",
   "metadata": {},
   "outputs": [],
   "source": [
    "def T(x):\n",
    "    return t.pdf(x, 3)"
   ]
  },
  {
   "cell_type": "code",
   "execution_count": 21,
   "id": "553f6a6d",
   "metadata": {},
   "outputs": [
    {
     "name": "stdout",
     "output_type": "stream",
     "text": [
      "p-value = 0.38718247426759\n"
     ]
    }
   ],
   "source": [
    "x = np.array([-1.11, -6.10, 2.42])\n",
    "y = np.array([-2.29, -2.91])\n",
    "\n",
    "p_v = integrate.quad(T, 0.3136, np.inf)[0]\n",
    "print(f\"p-value = {p_v}\")"
   ]
  },
  {
   "cell_type": "code",
   "execution_count": null,
   "id": "ca57cf4a",
   "metadata": {},
   "outputs": [],
   "source": []
  },
  {
   "cell_type": "code",
   "execution_count": null,
   "id": "12f1356d",
   "metadata": {},
   "outputs": [],
   "source": []
  }
 ],
 "metadata": {
  "kernelspec": {
   "display_name": "Python 3 (ipykernel)",
   "language": "python",
   "name": "python3"
  },
  "language_info": {
   "codemirror_mode": {
    "name": "ipython",
    "version": 3
   },
   "file_extension": ".py",
   "mimetype": "text/x-python",
   "name": "python",
   "nbconvert_exporter": "python",
   "pygments_lexer": "ipython3",
   "version": "3.9.12"
  }
 },
 "nbformat": 4,
 "nbformat_minor": 5
}
