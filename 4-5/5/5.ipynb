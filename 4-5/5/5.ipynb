{
 "cells": [
  {
   "cell_type": "code",
   "execution_count": 105,
   "id": "41e8f73e",
   "metadata": {},
   "outputs": [],
   "source": [
    "from scipy.stats import uniform\n",
    "import numpy as np\n",
    "from math import sqrt\n",
    "from math import log\n",
    "from scipy.stats import norm\n",
    "from sklearn.utils import resample"
   ]
  },
  {
   "cell_type": "code",
   "execution_count": 137,
   "id": "ef9245ba",
   "metadata": {},
   "outputs": [],
   "source": [
    "# Функция для вычисления бутстраповского доверительного интервала (Параметрический)\n",
    "def bootstrap_param_confidence_interval(data, n_bootstrap_samples = 100000, ci=95):\n",
    "    bootstrap_means = []\n",
    "    N = len(data)\n",
    "    for _ in range(n_bootstrap_samples):\n",
    "        # Генерация бутстраповской выборки\n",
    "        sample = resample(data, replace = True)\n",
    "        random_log = [log(i) for i in sample]\n",
    "        bootstrap_means.append(N / sum(random_log) + 1)\n",
    "    \n",
    "    # Вычисление границ доверительного интервала\n",
    "    lower_bound = np.percentile(bootstrap_means, 2.5)\n",
    "    upper_bound = np.percentile(bootstrap_means, 97.5)\n",
    "    lenght = upper_bound - lower_bound\n",
    "    \n",
    "    return lower_bound, upper_bound, lenght"
   ]
  },
  {
   "cell_type": "code",
   "execution_count": 146,
   "id": "74b7e082",
   "metadata": {},
   "outputs": [],
   "source": [
    "# Функция для вычисления бутстраповского доверительного интервала (Непараметрический)\n",
    "def bootstrap_confidence_interval(data, n_bootstrap_samples = 1000, ci=95):\n",
    "    bootstrap_means = []\n",
    "    N = len(data) \n",
    "    random_log = [log(i) for i in data]\n",
    "    first_est = N / sum(random_log) + 1\n",
    "    for _ in range(n_bootstrap_samples):\n",
    "        # Генерация бутстраповской выборки\n",
    "        sample = resample(data, replace = True)\n",
    "        random_log = [log(i) for i in sample]\n",
    "        bootstrap_means.append(N / sum(random_log) + 1 - first_est)\n",
    "    \n",
    "    # Вычисление границ доверительного интервала\n",
    "    lower_diff = np.percentile(bootstrap_means, 2.5)\n",
    "    upper_diff = np.percentile(bootstrap_means, 97.5)\n",
    "    \n",
    "    lower_bound = first_est - upper_diff\n",
    "    upper_bound = first_est - lower_diff\n",
    "    lenght = upper_bound - lower_bound\n",
    "    \n",
    "    return lower_bound, upper_bound, lenght"
   ]
  },
  {
   "cell_type": "code",
   "execution_count": 147,
   "id": "0cb812c0",
   "metadata": {},
   "outputs": [],
   "source": [
    "def AsymptoticIntervalMedian(teta_estimation, N):\n",
    "    first_q = -1.959963985\n",
    "    second_q = 1.959963985\n",
    "    left = 2 ** (1 / (teta_estimation - 1)) - 2 ** (1 / (teta_estimation - 1)) * log(2) / ((teta_estimation - 1) * sqrt(N)) * second_q\n",
    "    right =  2 ** (1 / (teta_estimation - 1)) - 2 ** (1 / (teta_estimation - 1)) * log(2) / ((teta_estimation - 1) * sqrt(N)) * first_q\n",
    "    lenght = right - left\n",
    "    print(\" Левая граница: \", left, '\\n', \"Правая граница: \", right, '\\n', \"Длина интервала = \", lenght)"
   ]
  },
  {
   "cell_type": "code",
   "execution_count": 148,
   "id": "eab3879a",
   "metadata": {},
   "outputs": [],
   "source": [
    "def AsymptoticIntervalTeta(teta_estimation, N):\n",
    "    first_q = -1.959963985\n",
    "    second_q = 1.959963985\n",
    "    left = teta_estimation - (teta_estimation - 1) / sqrt(N) * second_q\n",
    "    right = teta_estimation - (teta_estimation - 1) / sqrt(N) * first_q\n",
    "    lenght = right - left\n",
    "    print(\" Левая граница: \", left, '\\n', \"Правая граница: \", right, '\\n', \"Длина интервала = \", lenght)"
   ]
  },
  {
   "cell_type": "code",
   "execution_count": 172,
   "id": "3e01c4c1",
   "metadata": {},
   "outputs": [
    {
     "name": "stdout",
     "output_type": "stream",
     "text": [
      "[1.25546006 1.56065996 5.47892472 1.7321146  1.14439844 1.03925747\n",
      " 1.57577429 1.94931475 1.33504888 1.05914272 1.15136792 1.08483364\n",
      " 1.01507484 1.3084536  1.34936054 1.00902218 1.26419448 1.15098861\n",
      " 1.02894169 1.20891931 1.01817666 1.77064854 1.23294415 1.5075197\n",
      " 1.10347395 1.64283081 1.07115957 1.22675315 1.00394536 1.18221071\n",
      " 1.0985501  2.3638964  1.05754469 1.33555413 2.1443631  1.11737813\n",
      " 1.30015867 1.31158958 1.15552992 1.10735642 1.00231823 1.01212801\n",
      " 1.0049133  1.0436374  1.17632707 1.28848253 1.0120006  1.06530833\n",
      " 1.27406857 1.01892605 1.03994558 1.909218   1.12400869 1.38526334\n",
      " 1.04122645 1.17359335 1.41820265 1.01633014 1.76959695 1.26469274\n",
      " 1.00878653 1.1908912  1.32416885 1.43252104 1.49838706 1.07866203\n",
      " 1.38900323 1.15776413 2.21559367 1.06087073 3.09114677 1.2379997\n",
      " 1.59492588 1.35911118 1.01655724 1.04665621 2.23390477 1.03580374\n",
      " 1.66052216 1.07079747 1.06641779 1.15015209 1.12568434 1.01818235\n",
      " 1.11631695 1.26281843 1.01769352 1.0920615  1.15640934 2.98193\n",
      " 1.1024091  1.49012989 1.10082486 1.026336   2.77852364 1.60309312\n",
      " 1.46841893 1.63401827 1.26187192 1.17109316]\n"
     ]
    }
   ],
   "source": [
    "# Генерация выборки\n",
    "tetta = 5\n",
    "\n",
    "n = 100\n",
    "sample = np.random.uniform(0, 1, n) \n",
    "\n",
    "sample = sample ** (1 / (1 - tetta))\n",
    "print(sample)"
   ]
  },
  {
   "cell_type": "code",
   "execution_count": 173,
   "id": "6970f3f2",
   "metadata": {},
   "outputs": [
    {
     "name": "stdout",
     "output_type": "stream",
     "text": [
      " Левая граница:  1.1559516775452066 \n",
      " Правая граница:  1.2410106066938562 \n",
      " Длина интервала =  0.08505892914864965\n"
     ]
    }
   ],
   "source": [
    "# Получение информации о асимптотическом интервале для медианы\n",
    "random_log = [log(i) for i in sample]\n",
    "teta_estimation = n / sum(random_log) + 1\n",
    "\n",
    "AsymptoticIntervalMedian(teta_estimation, n)"
   ]
  },
  {
   "cell_type": "code",
   "execution_count": 174,
   "id": "d8cc94f0",
   "metadata": {},
   "outputs": [
    {
     "name": "stdout",
     "output_type": "stream",
     "text": [
      " Левая граница:  4.078029912475426 \n",
      " Правая граница:  5.578726616308421 \n",
      " Длина интервала =  1.500696703832995\n"
     ]
    }
   ],
   "source": [
    "# Получение информации о асимптотическом интервале для параметра\n",
    "random_log = [log(i) for i in sample]\n",
    "teta_estimation = n / sum(random_log) + 1\n",
    "\n",
    "AsymptoticIntervalTeta(teta_estimation, n)"
   ]
  },
  {
   "cell_type": "code",
   "execution_count": 175,
   "id": "df78591e",
   "metadata": {},
   "outputs": [
    {
     "name": "stdout",
     "output_type": "stream",
     "text": [
      "95% доверительный интервал для n = 100000: [4.118497206497303, 5.817240631704393], длина = 1.6987434252070894\n"
     ]
    }
   ],
   "source": [
    "# Вызов параметрического bootstrap для параметра teta\n",
    "\n",
    "left, right, lenght = bootstrap_param_confidence_interval(sample)\n",
    "print(f\"{95}% доверительный интервал для n = 100000: [{left}, {right}], длина = {lenght}\")"
   ]
  },
  {
   "cell_type": "code",
   "execution_count": 181,
   "id": "c01da022",
   "metadata": {},
   "outputs": [
    {
     "name": "stdout",
     "output_type": "stream",
     "text": [
      "95% доверительный интервал для n = 1000: [3.8123879922951227, 5.552921724730927], длина = 1.7405337324358046\n"
     ]
    }
   ],
   "source": [
    "# Вызов Непараметрического bootstrap для параметра teta\n",
    "\n",
    "left, right, lenght = bootstrap_confidence_interval(sample)\n",
    "print(f\"{95}% доверительный интервал для n = 1000: [{left}, {right}], длина = {lenght}\")"
   ]
  },
  {
   "cell_type": "code",
   "execution_count": 182,
   "id": "66b3cc06",
   "metadata": {},
   "outputs": [
    {
     "name": "stdout",
     "output_type": "stream",
     "text": [
      "В нашем случае мы получили хороший доверительный интервал для медианы. Лучшим доверительным интервалом для параметра teta оказался асимптотический доверительный интервал. В случае же bootstrap-овских доверительных интервалов получили, что параметрический оказался чуть уже, чем непараметрический\n"
     ]
    }
   ],
   "source": [
    "print(f\"В нашем случае мы получили хороший доверительный интервал для медианы. Лучшим доверительным интервалом для параметра teta оказался асимптотический доверительный интервал. В случае же bootstrap-овских доверительных интервалов получили, что параметрический оказался чуть уже, чем непараметрический\")"
   ]
  },
  {
   "cell_type": "code",
   "execution_count": null,
   "id": "45a05cfa",
   "metadata": {},
   "outputs": [],
   "source": []
  }
 ],
 "metadata": {
  "kernelspec": {
   "display_name": "Python 3 (ipykernel)",
   "language": "python",
   "name": "python3"
  },
  "language_info": {
   "codemirror_mode": {
    "name": "ipython",
    "version": 3
   },
   "file_extension": ".py",
   "mimetype": "text/x-python",
   "name": "python",
   "nbconvert_exporter": "python",
   "pygments_lexer": "ipython3",
   "version": "3.9.12"
  }
 },
 "nbformat": 4,
 "nbformat_minor": 5
}
