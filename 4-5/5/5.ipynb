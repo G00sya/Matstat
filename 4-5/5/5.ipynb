{
 "cells": [
  {
   "cell_type": "code",
   "execution_count": 2,
   "id": "41e8f73e",
   "metadata": {},
   "outputs": [
    {
     "name": "stderr",
     "output_type": "stream",
     "text": [
      "C:\\Users\\User\\anaconda3\\lib\\site-packages\\numpy\\_distributor_init.py:30: UserWarning: loaded more than 1 DLL from .libs:\n",
      "C:\\Users\\User\\anaconda3\\lib\\site-packages\\numpy\\.libs\\libopenblas.4SP5SUA7CBGXUEOC35YP2ASOICYYEQZZ.gfortran-win_amd64.dll\n",
      "C:\\Users\\User\\anaconda3\\lib\\site-packages\\numpy\\.libs\\libopenblas64__v0.3.21-gcc_10_3_0.dll\n",
      "  warnings.warn(\"loaded more than 1 DLL from .libs:\"\n",
      "C:\\Users\\User\\anaconda3\\lib\\site-packages\\scipy\\__init__.py:146: UserWarning: A NumPy version >=1.16.5 and <1.23.0 is required for this version of SciPy (detected version 1.24.3\n",
      "  warnings.warn(f\"A NumPy version >={np_minversion} and <{np_maxversion}\"\n"
     ]
    }
   ],
   "source": [
    "from scipy.stats import uniform\n",
    "import numpy as np\n",
    "from math import sqrt\n",
    "from math import log\n",
    "from scipy.stats import norm\n",
    "from sklearn.utils import resample"
   ]
  },
  {
   "cell_type": "code",
   "execution_count": 3,
   "id": "ef9245ba",
   "metadata": {},
   "outputs": [],
   "source": [
    "# Функция для вычисления бутстраповского доверительного интервала (Параметрический)\n",
    "def bootstrap_param_confidence_interval(data, n_bootstrap_samples = 100000, ci=95):\n",
    "    bootstrap_means = []\n",
    "    N = len(data)\n",
    "    for _ in range(n_bootstrap_samples):\n",
    "        # Генерация бутстраповской выборки\n",
    "        sample = resample(data, replace = True)\n",
    "        random_log = [log(i) for i in sample]\n",
    "        bootstrap_means.append(N / sum(random_log) + 1)\n",
    "    \n",
    "    # Вычисление границ доверительного интервала\n",
    "    lower_bound = np.percentile(bootstrap_means, 2.5)\n",
    "    upper_bound = np.percentile(bootstrap_means, 97.5)\n",
    "    lenght = upper_bound - lower_bound\n",
    "    \n",
    "    return lower_bound, upper_bound, lenght"
   ]
  },
  {
   "cell_type": "code",
   "execution_count": 4,
   "id": "74b7e082",
   "metadata": {},
   "outputs": [],
   "source": [
    "# Функция для вычисления бутстраповского доверительного интервала (Непараметрический)\n",
    "def bootstrap_confidence_interval(data, n_bootstrap_samples = 1000, ci=95):\n",
    "    bootstrap_means = []\n",
    "    N = len(data) \n",
    "    random_log = [log(i) for i in data]\n",
    "    first_est = N / sum(random_log) + 1\n",
    "    for _ in range(n_bootstrap_samples):\n",
    "        # Генерация бутстраповской выборки\n",
    "        sample = resample(data, replace = True)\n",
    "        random_log = [log(i) for i in sample]\n",
    "        bootstrap_means.append(N / sum(random_log) + 1 - first_est)\n",
    "    \n",
    "    # Вычисление границ доверительного интервала\n",
    "    lower_diff = np.percentile(bootstrap_means, 2.5)\n",
    "    upper_diff = np.percentile(bootstrap_means, 97.5)\n",
    "    \n",
    "    lower_bound = first_est - upper_diff\n",
    "    upper_bound = first_est - lower_diff\n",
    "    lenght = upper_bound - lower_bound\n",
    "    \n",
    "    return lower_bound, upper_bound, lenght"
   ]
  },
  {
   "cell_type": "code",
   "execution_count": 5,
   "id": "0cb812c0",
   "metadata": {},
   "outputs": [],
   "source": [
    "def AsymptoticIntervalMedian(teta_estimation, N):\n",
    "    first_q = -1.959963985\n",
    "    second_q = 1.959963985\n",
    "    left = 2 ** (1 / (teta_estimation - 1)) - 2 ** (1 / (teta_estimation - 1)) * log(2) / ((teta_estimation - 1) * sqrt(N)) * second_q\n",
    "    right =  2 ** (1 / (teta_estimation - 1)) - 2 ** (1 / (teta_estimation - 1)) * log(2) / ((teta_estimation - 1) * sqrt(N)) * first_q\n",
    "    lenght = right - left\n",
    "    print(\" Левая граница: \", left, '\\n', \"Правая граница: \", right, '\\n', \"Длина интервала = \", lenght)"
   ]
  },
  {
   "cell_type": "code",
   "execution_count": 6,
   "id": "eab3879a",
   "metadata": {},
   "outputs": [],
   "source": [
    "def AsymptoticIntervalTeta(teta_estimation, N):\n",
    "    first_q = -1.959963985\n",
    "    second_q = 1.959963985\n",
    "    left = teta_estimation - (teta_estimation - 1) / sqrt(N) * second_q\n",
    "    right = teta_estimation - (teta_estimation - 1) / sqrt(N) * first_q\n",
    "    lenght = right - left\n",
    "    print(\" Левая граница: \", left, '\\n', \"Правая граница: \", right, '\\n', \"Длина интервала = \", lenght)"
   ]
  },
  {
   "cell_type": "code",
   "execution_count": 7,
   "id": "3e01c4c1",
   "metadata": {},
   "outputs": [
    {
     "name": "stdout",
     "output_type": "stream",
     "text": [
      "[1.12997698 1.6930789  1.06063072 2.79325155 2.00700513 1.07696198\n",
      " 1.25989185 1.27122521 1.42842823 1.00053131 1.64916771 1.07572485\n",
      " 1.01135812 1.59789626 1.13557633 1.00405751 1.29979058 1.13997686\n",
      " 1.09988711 1.03786327 1.0646938  1.1090603  1.07179294 1.2371887\n",
      " 1.70165587 1.26795528 1.02099191 1.4743863  1.18607878 1.19690255\n",
      " 1.32873081 1.1200127  2.42008183 1.38460055 1.15125431 1.16742234\n",
      " 1.02918922 1.10652877 1.23863068 1.69232603 1.46968424 1.18021184\n",
      " 1.20934959 1.14362305 1.02190207 1.24645939 1.19262234 1.39753002\n",
      " 1.14810265 1.24016917 1.18476802 1.45952762 1.54696979 1.07772726\n",
      " 1.15531515 1.15700288 1.25993169 2.03441968 1.1195659  1.16122759\n",
      " 1.1387885  1.2117431  1.01978346 1.01677257 2.62134082 1.04260586\n",
      " 1.21954357 1.08038786 1.15812546 1.41153861 1.01456724 1.13775408\n",
      " 1.09711184 1.18192697 1.04787402 1.03902685 1.19946695 1.02543334\n",
      " 1.21886719 2.51523403 1.08597454 1.24091736 1.05499108 1.4428223\n",
      " 1.03638127 1.37052678 1.2087161  1.12836068 1.20642068 1.09367688\n",
      " 1.48973333 1.09043109 1.02609762 1.08236783 1.05671749 1.72522877\n",
      " 1.14226698 1.02298608 1.02697979 1.46411084]\n"
     ]
    }
   ],
   "source": [
    "# Генерация выборки\n",
    "tetta = 5\n",
    "\n",
    "n = 100\n",
    "sample = np.random.uniform(0, 1, n) \n",
    "\n",
    "sample = (1 - sample) ** (1 / (1 - tetta))\n",
    "print(sample)"
   ]
  },
  {
   "cell_type": "code",
   "execution_count": 8,
   "id": "6970f3f2",
   "metadata": {},
   "outputs": [
    {
     "name": "stdout",
     "output_type": "stream",
     "text": [
      " Левая граница:  1.1279534051938027 \n",
      " Правая граница:  1.1964289217699524 \n",
      " Длина интервала =  0.0684755165761497\n"
     ]
    }
   ],
   "source": [
    "# Получение информации о асимптотическом интервале для медианы\n",
    "random_log = [log(i) for i in sample]\n",
    "teta_estimation = n / sum(random_log) + 1\n",
    "\n",
    "AsymptoticIntervalMedian(teta_estimation, n)"
   ]
  },
  {
   "cell_type": "code",
   "execution_count": 9,
   "id": "d8cc94f0",
   "metadata": {},
   "outputs": [
    {
     "name": "stdout",
     "output_type": "stream",
     "text": [
      " Левая граница:  4.707693228459419 \n",
      " Правая граница:  6.515382940707266 \n",
      " Длина интервала =  1.8076897122478464\n"
     ]
    }
   ],
   "source": [
    "# Получение информации о асимптотическом интервале для параметра\n",
    "random_log = [log(i) for i in sample]\n",
    "teta_estimation = n / sum(random_log) + 1\n",
    "\n",
    "AsymptoticIntervalTeta(teta_estimation, n)"
   ]
  },
  {
   "cell_type": "code",
   "execution_count": 10,
   "id": "df78591e",
   "metadata": {},
   "outputs": [
    {
     "name": "stdout",
     "output_type": "stream",
     "text": [
      "95% доверительный интервал для n = 100000: [4.834973720611246, 6.649623912403321], длина = 1.814650191792075\n"
     ]
    }
   ],
   "source": [
    "# Вызов параметрического bootstrap для параметра teta\n",
    "\n",
    "left, right, lenght = bootstrap_param_confidence_interval(sample)\n",
    "print(f\"{95}% доверительный интервал для n = 100000: [{left}, {right}], длина = {lenght}\")"
   ]
  },
  {
   "cell_type": "code",
   "execution_count": 11,
   "id": "c01da022",
   "metadata": {},
   "outputs": [
    {
     "name": "stdout",
     "output_type": "stream",
     "text": [
      "95% доверительный интервал для n = 1000: [4.462323532069824, 6.409873865057091], длина = 1.9475503329872668\n"
     ]
    }
   ],
   "source": [
    "# Вызов Непараметрического bootstrap для параметра teta\n",
    "\n",
    "left, right, lenght = bootstrap_confidence_interval(sample)\n",
    "print(f\"{95}% доверительный интервал для n = 1000: [{left}, {right}], длина = {lenght}\")"
   ]
  },
  {
   "cell_type": "code",
   "execution_count": 12,
   "id": "66b3cc06",
   "metadata": {},
   "outputs": [
    {
     "name": "stdout",
     "output_type": "stream",
     "text": [
      "В нашем случае мы получили хороший доверительный интервал для медианы. Лучшим доверительным интервалом для параметра teta оказался асимптотический доверительный интервал. В случае же bootstrap-овских доверительных интервалов получили, что параметрический оказался чуть уже, чем непараметрический\n"
     ]
    }
   ],
   "source": [
    "print(f\"В нашем случае мы получили хороший доверительный интервал для медианы. Лучшим доверительным интервалом для параметра teta оказался асимптотический доверительный интервал. В случае же bootstrap-овских доверительных интервалов получили, что параметрический оказался чуть уже, чем непараметрический\")"
   ]
  },
  {
   "cell_type": "code",
   "execution_count": null,
   "id": "45a05cfa",
   "metadata": {},
   "outputs": [],
   "source": []
  }
 ],
 "metadata": {
  "kernelspec": {
   "display_name": "Python 3 (ipykernel)",
   "language": "python",
   "name": "python3"
  },
  "language_info": {
   "codemirror_mode": {
    "name": "ipython",
    "version": 3
   },
   "file_extension": ".py",
   "mimetype": "text/x-python",
   "name": "python",
   "nbconvert_exporter": "python",
   "pygments_lexer": "ipython3",
   "version": "3.9.12"
  }
 },
 "nbformat": 4,
 "nbformat_minor": 5
}
