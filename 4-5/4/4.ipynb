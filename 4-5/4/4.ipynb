{
 "cells": [
  {
   "cell_type": "code",
   "execution_count": 219,
   "id": "42436a88",
   "metadata": {},
   "outputs": [],
   "source": [
    "from scipy.stats import uniform\n",
    "import numpy as np\n",
    "from math import sqrt\n",
    "from scipy.stats import norm\n",
    "from sklearn.utils import resample"
   ]
  },
  {
   "cell_type": "code",
   "execution_count": 220,
   "id": "a5ee085a",
   "metadata": {},
   "outputs": [],
   "source": [
    "def ExactInterval(x_max, beta, N):\n",
    "    left = x_max / (((1 + beta) / 2) ** (1./N) + 1)\n",
    "    right = x_max / (((1 - beta) / 2) ** (1./N) + 1)\n",
    "    lenght = right - left\n",
    "    print(\" Левая граница: \", left, '\\n', \"Правая граница: \", right, '\\n', \"Длина интервала = \", lenght)"
   ]
  },
  {
   "cell_type": "code",
   "execution_count": 221,
   "id": "3c935c3d",
   "metadata": {},
   "outputs": [],
   "source": [
    "def AsymptoticInterval(first_moment, second_moment, N, teta_estimation):\n",
    "    first_q = -1.959963985\n",
    "    second_q = 1.959963985\n",
    "    left = teta_estimation - (3./2) * sqrt(second_moment - first_moment ** 2) * second_q / sqrt(N)\n",
    "    right = teta_estimation - (3./2) * sqrt(second_moment - first_moment ** 2) * first_q / sqrt(N)\n",
    "    lenght = right - left\n",
    "    print(\" Левая граница: \", left, '\\n', \"Правая граница: \", right, '\\n', \"Длина интервала = \", lenght)"
   ]
  },
  {
   "cell_type": "code",
   "execution_count": 222,
   "id": "8497a060",
   "metadata": {},
   "outputs": [],
   "source": [
    "# Функция для вычисления бутстраповского доверительного интервала\n",
    "def bootstrap_confidence_interval(data, n_bootstrap_samples = 100000, ci=95):\n",
    "    bootstrap_means = []\n",
    "    N = len(data)\n",
    "    for _ in range(n_bootstrap_samples):\n",
    "        # Генерация бутстраповской выборки\n",
    "        sample = resample(data, replace = True)\n",
    "        # Вычисление среднего значения выборки\n",
    "        bootstrap_means.append((N + 1) / (2 * N + 1) * (max(sample)))\n",
    "    \n",
    "    # Вычисление границ доверительного интервала\n",
    "    lower_bound = np.percentile(bootstrap_means, 2.5)\n",
    "    upper_bound = np.percentile(bootstrap_means, 97.5)\n",
    "    lenght = upper_bound - lower_bound\n",
    "    \n",
    "    return lower_bound, upper_bound, lenght"
   ]
  },
  {
   "cell_type": "code",
   "execution_count": 223,
   "id": "0953d4b2",
   "metadata": {},
   "outputs": [
    {
     "name": "stdout",
     "output_type": "stream",
     "text": [
      "[1.7154336  1.18644776 1.94134588 1.90027399 1.28993563 1.85851109\n",
      " 1.69025374 1.63570297 1.65931432 1.12515604 1.31403929 1.54855727\n",
      " 1.5840994  1.39123612 1.3350927  1.29431368 1.82217006 1.75378136\n",
      " 1.70108355 1.40763195 1.05458341 1.84978909 1.47177767 1.6279113\n",
      " 1.44382933 1.31713739 1.9225019  1.46709963 1.08817828 1.89037581\n",
      " 1.5546982  1.90336295 1.53779061 1.55077327 1.92817257 1.53988957\n",
      " 1.29339965 1.00887224 1.42769802 1.10850201 1.17447165 1.59016642\n",
      " 1.91995511 1.39011107 1.63381946 1.26231696 1.9955988  1.05160414\n",
      " 1.58777172 1.59533667 1.32640334 1.72411555 1.43545615 1.74210405\n",
      " 1.76734729 1.6688563  1.09417142 1.10600019 1.81300624 1.28318453\n",
      " 1.86979942 1.3007724  1.77317883 1.77509219 1.55560502 1.81289478\n",
      " 1.95067354 1.83763567 1.95963593 1.44647317 1.21897237 1.19432634\n",
      " 1.84889186 1.21382536 1.48157948 1.72411886 1.09084881 1.80685739\n",
      " 1.10441291 1.58080609 1.74847539 1.13097109 1.01056733 1.58317232\n",
      " 1.63016421 1.00119003 1.70908457 1.30880755 1.42488625 1.19101636\n",
      " 1.87630892 1.50654846 1.85334524 1.44172214 1.79063966 1.85708544\n",
      " 1.26385253 1.1338844  1.52125347 1.66976469] 1.9955988043434625\n"
     ]
    }
   ],
   "source": [
    "# Задаём параметры\n",
    "N = 100\n",
    "teta = 1\n",
    "beta = 0.95\n",
    "\n",
    "# Получаем выборку и максимум\n",
    "random_array = np.random.uniform(teta, 2*teta, N) \n",
    "x_max = max(random_array)\n",
    "\n",
    "print(random_array, x_max)"
   ]
  },
  {
   "cell_type": "code",
   "execution_count": 224,
   "id": "1d87fc60",
   "metadata": {},
   "outputs": [
    {
     "name": "stdout",
     "output_type": "stream",
     "text": [
      " Левая граница:  0.9979257126394118 \n",
      " Правая граница:  1.016201124059606 \n",
      " Длина интервала =  0.018275411420194287\n"
     ]
    }
   ],
   "source": [
    "# Получаем информацию о точном доверительном интервале\n",
    "ExactInterval(x_max, beta, N)"
   ]
  },
  {
   "cell_type": "code",
   "execution_count": 225,
   "id": "09277d32",
   "metadata": {},
   "outputs": [
    {
     "name": "stdout",
     "output_type": "stream",
     "text": [
      " Левая граница:  0.9345852815008161 \n",
      " Правая граница:  1.098770196169969 \n",
      " Длина интервала =  0.16418491466915286\n"
     ]
    }
   ],
   "source": [
    "# Получаем информацию о асимптотическом доверительном интервале\n",
    "random_sqr = [i ** 2 for i in random_array]\n",
    "first_moment = sum(random_array) / len(random_array)\n",
    "second_moment = sum(random_sqr) / len(random_sqr)\n",
    "teta_estimation = 2./3 * first_moment\n",
    "\n",
    "AsymptoticInterval(first_moment, second_moment, N, teta_estimation)"
   ]
  },
  {
   "cell_type": "code",
   "execution_count": 226,
   "id": "435a38b9",
   "metadata": {},
   "outputs": [
    {
     "name": "stdout",
     "output_type": "stream",
     "text": [
      "95% доверительный интервал для n = 100000: [0.987528096444299, 1.0652557720605818], длина = 0.027261419539770237\n"
     ]
    }
   ],
   "source": [
    "# Бутстраповский доверительный интервал\n",
    "left, right, lenght = bootstrap_confidence_interval(random_array)\n",
    "print(f\"{95}% доверительный интервал для n = 100000: [{lower}, {upper}], длина = {lenght}\")"
   ]
  },
  {
   "cell_type": "code",
   "execution_count": 227,
   "id": "8fd7c533",
   "metadata": {},
   "outputs": [
    {
     "name": "stdout",
     "output_type": "stream",
     "text": [
      "В нашем случае бутстраповский доверительный интервал оказался уже всего => он даёт наилучшую оценку. Точный доверительный интервал тоже дал неплохую оценку. Асимптотический интервал же вышел хуже всех. Скорее всего из-за n = 100, т.е из-за слишком маленькой выборки\n"
     ]
    }
   ],
   "source": [
    "# Сравнение интервалов\n",
    "print(f\"В нашем случае точный доверительный интервал оказался уже всего => он даёт наилучшую оценку. Бутстраповский доверительный интервал тоже дал неплохую оценку. Асимптотический интервал же вышел хуже всех. Скорее всего из-за n = 100, т.е из-за слишком маленькой выборки\")"
   ]
  },
  {
   "cell_type": "code",
   "execution_count": null,
   "id": "d204086d",
   "metadata": {},
   "outputs": [],
   "source": []
  },
  {
   "cell_type": "code",
   "execution_count": null,
   "id": "dda6dc98",
   "metadata": {},
   "outputs": [],
   "source": []
  }
 ],
 "metadata": {
  "kernelspec": {
   "display_name": "Python 3 (ipykernel)",
   "language": "python",
   "name": "python3"
  },
  "language_info": {
   "codemirror_mode": {
    "name": "ipython",
    "version": 3
   },
   "file_extension": ".py",
   "mimetype": "text/x-python",
   "name": "python",
   "nbconvert_exporter": "python",
   "pygments_lexer": "ipython3",
   "version": "3.9.12"
  }
 },
 "nbformat": 4,
 "nbformat_minor": 5
}
