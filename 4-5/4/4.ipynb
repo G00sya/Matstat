{
 "cells": [
  {
   "cell_type": "code",
   "execution_count": 1,
   "id": "42436a88",
   "metadata": {},
   "outputs": [
    {
     "name": "stderr",
     "output_type": "stream",
     "text": [
      "C:\\Users\\User\\anaconda3\\lib\\site-packages\\numpy\\_distributor_init.py:30: UserWarning: loaded more than 1 DLL from .libs:\n",
      "C:\\Users\\User\\anaconda3\\lib\\site-packages\\numpy\\.libs\\libopenblas.4SP5SUA7CBGXUEOC35YP2ASOICYYEQZZ.gfortran-win_amd64.dll\n",
      "C:\\Users\\User\\anaconda3\\lib\\site-packages\\numpy\\.libs\\libopenblas64__v0.3.21-gcc_10_3_0.dll\n",
      "  warnings.warn(\"loaded more than 1 DLL from .libs:\"\n",
      "C:\\Users\\User\\anaconda3\\lib\\site-packages\\scipy\\__init__.py:146: UserWarning: A NumPy version >=1.16.5 and <1.23.0 is required for this version of SciPy (detected version 1.24.3\n",
      "  warnings.warn(f\"A NumPy version >={np_minversion} and <{np_maxversion}\"\n"
     ]
    }
   ],
   "source": [
    "from scipy.stats import uniform\n",
    "import numpy as np\n",
    "from math import sqrt\n",
    "from scipy.stats import norm\n",
    "from sklearn.utils import resample"
   ]
  },
  {
   "cell_type": "code",
   "execution_count": 2,
   "id": "a5ee085a",
   "metadata": {},
   "outputs": [],
   "source": [
    "def ExactInterval(x_max, beta, N):\n",
    "    left = x_max / (((1 + beta) / 2) ** (1./N) + 1)\n",
    "    right = x_max / (((1 - beta) / 2) ** (1./N) + 1)\n",
    "    lenght = right - left\n",
    "    print(\" Левая граница: \", left, '\\n', \"Правая граница: \", right, '\\n', \"Длина интервала = \", lenght)"
   ]
  },
  {
   "cell_type": "code",
   "execution_count": 3,
   "id": "3c935c3d",
   "metadata": {},
   "outputs": [],
   "source": [
    "def AsymptoticInterval(first_moment, second_moment, N, teta_estimation):\n",
    "    first_q = -1.959963985\n",
    "    second_q = 1.959963985\n",
    "    left = teta_estimation - (3./2) * sqrt(second_moment - first_moment ** 2) * second_q / sqrt(N)\n",
    "    right = teta_estimation - (3./2) * sqrt(second_moment - first_moment ** 2) * first_q / sqrt(N)\n",
    "    lenght = right - left\n",
    "    print(\" Левая граница: \", left, '\\n', \"Правая граница: \", right, '\\n', \"Длина интервала = \", lenght)"
   ]
  },
  {
   "cell_type": "code",
   "execution_count": 4,
   "id": "8497a060",
   "metadata": {},
   "outputs": [],
   "source": [
    "# Функция для вычисления бутстраповского доверительного интервала\n",
    "def bootstrap_confidence_interval(data, n_bootstrap_samples = 100000, ci=95):\n",
    "    bootstrap_means = []\n",
    "    N = len(data)\n",
    "    for _ in range(n_bootstrap_samples):\n",
    "        # Генерация бутстраповской выборки\n",
    "        sample = resample(data, replace = True)\n",
    "        bootstrap_means.append((N + 1) / (2 * N + 1) * (max(sample)))\n",
    "    \n",
    "    # Вычисление границ доверительного интервала\n",
    "    lower_bound = np.percentile(bootstrap_means, 2.5)\n",
    "    upper_bound = np.percentile(bootstrap_means, 97.5)\n",
    "    lenght = upper_bound - lower_bound\n",
    "    \n",
    "    return lower_bound, upper_bound, lenght"
   ]
  },
  {
   "cell_type": "code",
   "execution_count": 5,
   "id": "0953d4b2",
   "metadata": {},
   "outputs": [
    {
     "name": "stdout",
     "output_type": "stream",
     "text": [
      "[1.46447203 1.95426161 1.75095883 1.84620122 1.57784978 1.89520954\n",
      " 1.86292059 1.08607993 1.15371125 1.7656939  1.60245787 1.2067651\n",
      " 1.39316486 1.25568263 1.41497203 1.9938049  1.6394808  1.70580313\n",
      " 1.99370168 1.46289735 1.34355672 1.42328264 1.33132512 1.36131101\n",
      " 1.02689876 1.38360834 1.18801099 1.04993871 1.70494398 1.94759642\n",
      " 1.93747187 1.02068301 1.68765616 1.57534192 1.29849742 1.89642476\n",
      " 1.3574539  1.16548178 1.99665255 1.7461441  1.7307306  1.70993466\n",
      " 1.74873043 1.66124279 1.99159538 1.76372306 1.77972106 1.51438549\n",
      " 1.37485828 1.43224031 1.51889621 1.41539829 1.22246442 1.7658795\n",
      " 1.4208079  1.56298593 1.50271573 1.94650762 1.13028678 1.65483342\n",
      " 1.82434694 1.30705204 1.09142998 1.96401407 1.68081628 1.49318927\n",
      " 1.86741572 1.39577123 1.07591647 1.20120288 1.0133612  1.82148579\n",
      " 1.78856731 1.64447049 1.92440447 1.12981638 1.05026822 1.79772352\n",
      " 1.37418499 1.90893281 1.86210413 1.11978612 1.20020277 1.92602165\n",
      " 1.47580938 1.6292423  1.68704813 1.18079916 1.78264927 1.9433499\n",
      " 1.71692147 1.65789695 1.38410559 1.15127216 1.90221305 1.78250888\n",
      " 1.92298015 1.10926816 1.901146   1.20888763] 1.996652545330146\n"
     ]
    }
   ],
   "source": [
    "# Задаём параметры\n",
    "N = 100\n",
    "teta = 1\n",
    "beta = 0.95\n",
    "\n",
    "# Получаем выборку и максимум\n",
    "random_array = np.random.uniform(teta, 2*teta, N) \n",
    "x_max = max(random_array)\n",
    "\n",
    "print(random_array, x_max)"
   ]
  },
  {
   "cell_type": "code",
   "execution_count": 6,
   "id": "1d87fc60",
   "metadata": {},
   "outputs": [
    {
     "name": "stdout",
     "output_type": "stream",
     "text": [
      " Левая граница:  0.998452649828783 \n",
      " Правая граница:  1.016737711259801 \n",
      " Длина интервала =  0.018285061431018046\n"
     ]
    }
   ],
   "source": [
    "# Получаем информацию о точном доверительном интервале\n",
    "ExactInterval(x_max, beta, N)"
   ]
  },
  {
   "cell_type": "code",
   "execution_count": 7,
   "id": "09277d32",
   "metadata": {},
   "outputs": [
    {
     "name": "stdout",
     "output_type": "stream",
     "text": [
      " Левая граница:  0.9476088366633347 \n",
      " Правая граница:  1.1219230299388552 \n",
      " Длина интервала =  0.17431419327552045\n"
     ]
    }
   ],
   "source": [
    "# Получаем информацию о асимптотическом доверительном интервале\n",
    "random_sqr = [i ** 2 for i in random_array]\n",
    "first_moment = sum(random_array) / len(random_array)\n",
    "second_moment = sum(random_sqr) / len(random_sqr)\n",
    "teta_estimation = 2./3 * first_moment\n",
    "\n",
    "AsymptoticInterval(first_moment, second_moment, N, teta_estimation)"
   ]
  },
  {
   "cell_type": "code",
   "execution_count": 9,
   "id": "435a38b9",
   "metadata": {},
   "outputs": [
    {
     "name": "stdout",
     "output_type": "stream",
     "text": [
      "95% доверительный интервал для n = 100000: [1.0007519098280484, 1.0032930700415164], длина = 0.0025411602134679523\n"
     ]
    }
   ],
   "source": [
    "# Бутстраповский доверительный интервал\n",
    "left, right, lenght = bootstrap_confidence_interval(random_array)\n",
    "print(f\"{95}% доверительный интервал для n = 100000: [{left}, {right}], длина = {lenght}\")"
   ]
  },
  {
   "cell_type": "code",
   "execution_count": null,
   "id": "8fd7c533",
   "metadata": {},
   "outputs": [],
   "source": [
    "# Сравнение интервалов\n",
    "print(f\"В нашем случае точный доверительный интервал оказался уже всего => он даёт наилучшую оценку. Бутстраповский доверительный интервал тоже дал неплохую оценку. Асимптотический интервал же вышел хуже всех. Скорее всего из-за n = 100, т.е из-за слишком маленькой выборки\")"
   ]
  },
  {
   "cell_type": "code",
   "execution_count": null,
   "id": "d204086d",
   "metadata": {},
   "outputs": [],
   "source": []
  },
  {
   "cell_type": "code",
   "execution_count": null,
   "id": "dda6dc98",
   "metadata": {},
   "outputs": [],
   "source": []
  }
 ],
 "metadata": {
  "kernelspec": {
   "display_name": "Python 3 (ipykernel)",
   "language": "python",
   "name": "python3"
  },
  "language_info": {
   "codemirror_mode": {
    "name": "ipython",
    "version": 3
   },
   "file_extension": ".py",
   "mimetype": "text/x-python",
   "name": "python",
   "nbconvert_exporter": "python",
   "pygments_lexer": "ipython3",
   "version": "3.9.12"
  }
 },
 "nbformat": 4,
 "nbformat_minor": 5
}
